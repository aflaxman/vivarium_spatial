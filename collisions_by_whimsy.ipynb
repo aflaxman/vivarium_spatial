{
 "cells": [
  {
   "cell_type": "code",
   "execution_count": 1,
   "id": "e61c8626-4585-436c-a017-bbf2d9e95d47",
   "metadata": {},
   "outputs": [
    {
     "name": "stdout",
     "output_type": "stream",
     "text": [
      "Sat Dec  7 22:56:26 PST 2024\n"
     ]
    }
   ],
   "source": [
    "import numpy as np, pandas as pd, matplotlib.pyplot as plt\n",
    "!date"
   ]
  },
  {
   "cell_type": "code",
   "execution_count": 2,
   "id": "17695722-789d-4e0f-ac04-9b9cadcb9555",
   "metadata": {},
   "outputs": [
    {
     "data": {
      "text/html": [
       "<div>\n",
       "<style scoped>\n",
       "    .dataframe tbody tr th:only-of-type {\n",
       "        vertical-align: middle;\n",
       "    }\n",
       "\n",
       "    .dataframe tbody tr th {\n",
       "        vertical-align: top;\n",
       "    }\n",
       "\n",
       "    .dataframe thead th {\n",
       "        text-align: right;\n",
       "    }\n",
       "</style>\n",
       "<table border=\"1\" class=\"dataframe\">\n",
       "  <thead>\n",
       "    <tr style=\"text-align: right;\">\n",
       "      <th></th>\n",
       "      <th>measure</th>\n",
       "      <th>entity_type</th>\n",
       "      <th>entity</th>\n",
       "      <th>sub_entity</th>\n",
       "      <th>value</th>\n",
       "    </tr>\n",
       "  </thead>\n",
       "  <tbody>\n",
       "    <tr>\n",
       "      <th>0</th>\n",
       "      <td>collision_count</td>\n",
       "      <td>particle</td>\n",
       "      <td>collision</td>\n",
       "      <td>low</td>\n",
       "      <td>317.0</td>\n",
       "    </tr>\n",
       "    <tr>\n",
       "      <th>1</th>\n",
       "      <td>collision_count</td>\n",
       "      <td>particle</td>\n",
       "      <td>collision</td>\n",
       "      <td>medium</td>\n",
       "      <td>310.0</td>\n",
       "    </tr>\n",
       "    <tr>\n",
       "      <th>2</th>\n",
       "      <td>collision_count</td>\n",
       "      <td>particle</td>\n",
       "      <td>collision</td>\n",
       "      <td>high</td>\n",
       "      <td>193.0</td>\n",
       "    </tr>\n",
       "  </tbody>\n",
       "</table>\n",
       "</div>"
      ],
      "text/plain": [
       "           measure entity_type     entity sub_entity  value\n",
       "0  collision_count    particle  collision        low  317.0\n",
       "1  collision_count    particle  collision     medium  310.0\n",
       "2  collision_count    particle  collision       high  193.0"
      ]
     },
     "execution_count": 2,
     "metadata": {},
     "output_type": "execute_result"
    }
   ],
   "source": [
    "fname = '/home/abie/vivarium_results/model_spec/2024_12_07_22_45_57/results/collision_counts.parquet'\n",
    "df = pd.read_parquet(fname)\n",
    "df"
   ]
  },
  {
   "cell_type": "code",
   "execution_count": 3,
   "id": "3edbd256-0c94-45d9-a3ff-951d2a7ee057",
   "metadata": {},
   "outputs": [
    {
     "data": {
      "text/plain": [
       "820.0"
      ]
     },
     "execution_count": 3,
     "metadata": {},
     "output_type": "execute_result"
    }
   ],
   "source": [
    "df.value.sum()"
   ]
  },
  {
   "cell_type": "code",
   "execution_count": 4,
   "id": "35c6d6e6-5fd5-473d-9cb1-5a8b72a3a6a8",
   "metadata": {},
   "outputs": [
    {
     "data": {
      "text/plain": [
       "<Axes: xlabel='sub_entity'>"
      ]
     },
     "execution_count": 4,
     "metadata": {},
     "output_type": "execute_result"
    },
    {
     "data": {
      "image/png": "[encoded data removed]",
      "text/plain": [
       "<Figure size 640x480 with 1 Axes>"
      ]
     },
     "metadata": {},
     "output_type": "display_data"
    }
   ],
   "source": [
    "df.set_index('sub_entity').value.plot(kind='bar')"
   ]
  },
  {
   "cell_type": "code",
   "execution_count": null,
   "id": "bd34e858-5c22-44e7-81e7-1acfad6d6ead",
   "metadata": {},
   "outputs": [],
   "source": []
  }
 ],
 "metadata": {
  "kernelspec": {
   "display_name": "Python 3 (ipykernel)",
   "language": "python",
   "name": "python3"
  },
  "language_info": {
   "codemirror_mode": {
    "name": "ipython",
    "version": 3
   },
   "file_extension": ".py",
   "mimetype": "text/x-python",
   "name": "python",
   "nbconvert_exporter": "python",
   "pygments_lexer": "ipython3",
   "version": "3.11.10"
  }
 },
 "nbformat": 4,
 "nbformat_minor": 5
}
